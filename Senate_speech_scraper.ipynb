{
 "cells": [
  {
   "cell_type": "code",
   "execution_count": 1,
   "metadata": {},
   "outputs": [],
   "source": [
    "import os\n",
    "import re\n",
    "import requests\n",
    "import time\n",
    "from datetime import datetime, date, timedelta as td\n",
    "from bs4 import BeautifulSoup\n",
    "from urllib.parse import urljoin\n",
    "import csv"
   ]
  },
  {
   "cell_type": "code",
   "execution_count": 39,
   "metadata": {},
   "outputs": [],
   "source": [
    "class SenateScraper():\n",
    "    def __init__(self, start_date, end_date):\n",
    "        # date should be a string in the form of m/d/y. for example start_date = \"02-14-2012\"\n",
    "        self.start_date = start_date\n",
    "        self.end_date = end_date\n",
    "        self.url_start = \"https://www.congress.gov/congressional-record/\"\n",
    "        self.url_end = \"/senate-section\" # change to /\"house-section\" for congresse speeches\n",
    "                \n",
    "    def daterange(self, start_date, end_date):\n",
    "        \"\"\"Creates a generator over a list of dates between the start and end date\"\"\"\n",
    "        #http://stackoverflow.com/questions/1060279/iterating-through-a-range-of-dates-in-python\n",
    "        start_date = [int(i) for i in start_date.split(\"-\")]\n",
    "        start_date = date(start_date[2], start_date[0], start_date[1])\n",
    "        end_date = [int(i) for i in end_date.split(\"-\")]\n",
    "        end_date = date(end_date[2], end_date[0], end_date[1])\n",
    "        for n in range(int ((end_date - start_date).days)):\n",
    "            #print(start_date + td(n))\n",
    "            yield(start_date + td(n))\n",
    "                            \n",
    "    def get_daily_links(self, url):\n",
    "        page = requests.get(url)\n",
    "        soup = BeautifulSoup(page.content)\n",
    "        tds = [td for td in soup.find_all('td')] \n",
    "        #only even numbered indexes for txt otherwise it return pdf\n",
    "        tds = [tds[i] for i in range(len(tds)) if i % 2 == 0]\n",
    "        links = [urljoin(\"https://www.congress.gov/\", link.a.get('href')) for link in tds] \n",
    "        return links\n",
    "    \n",
    "    def get_text(self, url):\n",
    "        page = requests.get(url)\n",
    "        soup = BeautifulSoup(page.content)\n",
    "        actual_date = re.search(r\"\\d{4}\\/\\d{2}\\/\\d{2}\", url).group(0)\n",
    "        text = soup.find('pre', class_ = 'styled').text\n",
    "        text = text.replace(\"_\",\"\").replace(\"-\",\"\")\n",
    "        lines = [l for l in text.splitlines() if len(l) and not l.startswith(\"[\")]  \n",
    "        #title = lines[1].lstrip()\n",
    "        text = \" \".join(lines[2:]).strip()\n",
    "        return actual_date, text\n",
    "    \n",
    "    def scrape(self):\n",
    "        with open (\"test1.csv\",\"w\", newline=\"\", encoding=\"utf8\") as csvfile:\n",
    "            writer = csv.DictWriter(csvfile, fieldnames=[\"date\",\"url\",\"text\"])\n",
    "            writer.writeheader()\n",
    "            dates_to_scrape = [date.strftime(\"%Y/%m/%d\") for date in self.daterange(self.start_date, self.end_date)]\n",
    "            for date in dates_to_scrape:\n",
    "                url = self.url_start + date + self.url_end\n",
    "                links = self.get_daily_links(url)\n",
    "                if len(links)==0:\n",
    "                    continue\n",
    "                for link in links:\n",
    "                    date, text = self.get_text(link)\n",
    "                    writer.writerow({\"date\": date, \"url\":link, \"text\":text})"
   ]
  },
  {
   "cell_type": "code",
   "execution_count": 40,
   "metadata": {},
   "outputs": [],
   "source": [
    "s= SenateScraper(start_date, end_date)\n",
    "s.scrape()"
   ]
  },
  {
   "cell_type": "code",
   "execution_count": null,
   "metadata": {},
   "outputs": [],
   "source": []
  }
 ],
 "metadata": {
  "kernelspec": {
   "display_name": "Python 3",
   "language": "python",
   "name": "python3"
  },
  "language_info": {
   "codemirror_mode": {
    "name": "ipython",
    "version": 3
   },
   "file_extension": ".py",
   "mimetype": "text/x-python",
   "name": "python",
   "nbconvert_exporter": "python",
   "pygments_lexer": "ipython3",
   "version": "3.7.3"
  }
 },
 "nbformat": 4,
 "nbformat_minor": 2
}
