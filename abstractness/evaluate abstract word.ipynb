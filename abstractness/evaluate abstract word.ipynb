{
 "cells": [
  {
   "cell_type": "raw",
   "metadata": {},
   "source": [
    "based on the following papers: \n",
    "http://184pc128.csie.ntnu.edu.tw/presentation/13-08-27/Estimating%20Content%20Concreteness%20for%20Finding%20Comprehensible%20Documents.pdf\n",
    "\n",
    "https://www.aaai.org/ocs/index.php/FLAIRS/FLAIRS11/paper/viewFile/2644/3035"
   ]
  },
  {
   "cell_type": "markdown",
   "metadata": {},
   "source": [
    "# first extract nouns from dataset. use the extract_nouns.py file"
   ]
  },
  {
   "cell_type": "markdown",
   "metadata": {},
   "source": [
    "# evaluate each word"
   ]
  },
  {
   "cell_type": "code",
   "execution_count": 1,
   "metadata": {},
   "outputs": [],
   "source": [
    "from nltk.corpus import wordnet as wn"
   ]
  },
  {
   "cell_type": "code",
   "execution_count": null,
   "metadata": {},
   "outputs": [],
   "source": [
    "class Abstract:\n",
    "    \n",
    "    def evaluate_abstract(self,word):\n",
    "        \"\"\"according to Tanaka\"\"\"\n",
    "        lexical = set() \n",
    "        missing = set()\n",
    "        # https://www.aaai.org/ocs/index.php/FLAIRS/FLAIRS11/paper/viewFile/2644/3035 \n",
    "        # according to this paper we can use the number of lexical type \n",
    "        word = word.lower()\n",
    "        if word in set(wn.all_lemma_names()): # if word not exist in wordnet\n",
    "            lemmas = wn.lemmas(word, pos=wn.NOUN)\n",
    "            abs_lst = []\n",
    "            for lemma in lemmas:\n",
    "                lexical.add(lemma.synset().lexname())\n",
    "                # find all the hypernyms\n",
    "                tree = lemma.synset().tree(lambda s:s.hypernyms())\n",
    "                hypernyms = self.flatten(tree)\n",
    "                # count the abst\\concrete meaning for each lemma, sum it and evalute the abstractness of a given word\n",
    "                num_abstract = self.count_synset(hypernyms,\"abstraction\")\n",
    "                num_concrete = self.count_synset(hypernyms,\"physical\")\n",
    "                if num_abstract + num_concrete != 0:\n",
    "                    abstract_words = num_abstract/(num_abstract+num_concrete)\n",
    "                    abs_lst.append(abstract_words)\n",
    "            if len(abs_lst): # avoiding division by zero i.e. in case the word not exist such as names, numbers etc.\n",
    "                return round(sum(abs_lst) / len(abs_lst),2)\n",
    "        else:\n",
    "            missing.add(word)\n",
    "            return missing\n",
    "        \n",
    "    def count_synset(self, synsets,cat):\n",
    "        return len([s.name() for s in synsets if s.name().startswith(cat)])\n",
    "    \n",
    "    def flatten(self,l):\n",
    "        if isinstance(l, list):\n",
    "            if l == []:\n",
    "                return []\n",
    "            else:\n",
    "                return self.flatten(l[0]) + self.flatten(l[1:])\n",
    "        else:\n",
    "            return [l]\n",
    "        \n",
    "    def polysemy_words(self): \n",
    "        \"\"\"acccording to Tanaka et al 2013, abstract nouns tend to be more polysemous then concrete words\"\"\"\n",
    "        return len(wn.synsets(self.word))"
   ]
  },
  {
   "cell_type": "code",
   "execution_count": null,
   "metadata": {},
   "outputs": [],
   "source": [
    "# run on your dataset e.g. u"
   ]
  }
 ],
 "metadata": {
  "kernelspec": {
   "display_name": "Python 3",
   "language": "python",
   "name": "python3"
  },
  "language_info": {
   "codemirror_mode": {
    "name": "ipython",
    "version": 3
   },
   "file_extension": ".py",
   "mimetype": "text/x-python",
   "name": "python",
   "nbconvert_exporter": "python",
   "pygments_lexer": "ipython3",
   "version": "3.7.3"
  },
  "toc": {
   "base_numbering": 1,
   "nav_menu": {},
   "number_sections": true,
   "sideBar": true,
   "skip_h1_title": false,
   "title_cell": "Table of Contents",
   "title_sidebar": "Contents",
   "toc_cell": false,
   "toc_position": {},
   "toc_section_display": true,
   "toc_window_display": false
  },
  "varInspector": {
   "cols": {
    "lenName": 16,
    "lenType": 16,
    "lenVar": 40
   },
   "kernels_config": {
    "python": {
     "delete_cmd_postfix": "",
     "delete_cmd_prefix": "del ",
     "library": "var_list.py",
     "varRefreshCmd": "print(var_dic_list())"
    },
    "r": {
     "delete_cmd_postfix": ") ",
     "delete_cmd_prefix": "rm(",
     "library": "var_list.r",
     "varRefreshCmd": "cat(var_dic_list()) "
    }
   },
   "types_to_exclude": [
    "module",
    "function",
    "builtin_function_or_method",
    "instance",
    "_Feature"
   ],
   "window_display": false
  }
 },
 "nbformat": 4,
 "nbformat_minor": 2
}
