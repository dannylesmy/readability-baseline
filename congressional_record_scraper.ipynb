{
 "cells": [
  {
   "cell_type": "code",
   "execution_count": 2,
   "metadata": {},
   "outputs": [],
   "source": []
  },
  {
   "cell_type": "code",
   "execution_count": 3,
   "metadata": {},
   "outputs": [
    {
     "data": {
      "text/html": [
       "<div>\n",
       "<style scoped>\n",
       "    .dataframe tbody tr th:only-of-type {\n",
       "        vertical-align: middle;\n",
       "    }\n",
       "\n",
       "    .dataframe tbody tr th {\n",
       "        vertical-align: top;\n",
       "    }\n",
       "\n",
       "    .dataframe thead th {\n",
       "        text-align: right;\n",
       "    }\n",
       "</style>\n",
       "<table border=\"1\" class=\"dataframe\">\n",
       "  <thead>\n",
       "    <tr style=\"text-align: right;\">\n",
       "      <th></th>\n",
       "      <th>date</th>\n",
       "      <th>url</th>\n",
       "      <th>title</th>\n",
       "      <th>text</th>\n",
       "    </tr>\n",
       "  </thead>\n",
       "  <tbody>\n",
       "    <tr>\n",
       "      <th>0</th>\n",
       "      <td>2019/01/02</td>\n",
       "      <td>https://www.congress.gov/congressional-record/...</td>\n",
       "      <td>SENATE BILL REFERRED</td>\n",
       "      <td>A bill of the Senate of the following title wa...</td>\n",
       "    </tr>\n",
       "    <tr>\n",
       "      <th>1</th>\n",
       "      <td>2019/01/02</td>\n",
       "      <td>https://www.congress.gov/congressional-record/...</td>\n",
       "      <td>ADJOURNMENT</td>\n",
       "      <td>The SPEAKER pro tempore. Pursuant to section 7...</td>\n",
       "    </tr>\n",
       "    <tr>\n",
       "      <th>2</th>\n",
       "      <td>2019/01/02</td>\n",
       "      <td>https://www.congress.gov/congressional-record/...</td>\n",
       "      <td>EXECUTIVE COMMUNICATIONS, ETC.</td>\n",
       "      <td>Under clause 2 of rule XIV, executive communic...</td>\n",
       "    </tr>\n",
       "    <tr>\n",
       "      <th>3</th>\n",
       "      <td>2019/01/02</td>\n",
       "      <td>https://www.congress.gov/congressional-record/...</td>\n",
       "      <td>THE JOURNAL</td>\n",
       "      <td>The SPEAKER pro tempore. Pursuant to section 2...</td>\n",
       "    </tr>\n",
       "    <tr>\n",
       "      <th>4</th>\n",
       "      <td>2019/01/02</td>\n",
       "      <td>https://www.congress.gov/congressional-record/...</td>\n",
       "      <td>PLEDGE OF ALLEGIANCE</td>\n",
       "      <td>The SPEAKER pro tempore. The Chair will lead t...</td>\n",
       "    </tr>\n",
       "    <tr>\n",
       "      <th>...</th>\n",
       "      <td>...</td>\n",
       "      <td>...</td>\n",
       "      <td>...</td>\n",
       "      <td>...</td>\n",
       "    </tr>\n",
       "    <tr>\n",
       "      <th>1043</th>\n",
       "      <td>2019/01/17</td>\n",
       "      <td>https://www.congress.gov/congressional-record/...</td>\n",
       "      <td>By Mr. VISCLOSKY:</td>\n",
       "      <td>H.R. 684.        Congress has the power to ena...</td>\n",
       "    </tr>\n",
       "    <tr>\n",
       "      <th>1044</th>\n",
       "      <td>2019/01/17</td>\n",
       "      <td>https://www.congress.gov/congressional-record/...</td>\n",
       "      <td>By Mr. WALDEN:</td>\n",
       "      <td>H.R. 685.        Congress has the power to ena...</td>\n",
       "    </tr>\n",
       "    <tr>\n",
       "      <th>1045</th>\n",
       "      <td>2019/01/17</td>\n",
       "      <td>https://www.congress.gov/congressional-record/...</td>\n",
       "      <td>By Mrs. WATSON COLEMAN:</td>\n",
       "      <td>H.R. 686.        Congress has the power to ena...</td>\n",
       "    </tr>\n",
       "    <tr>\n",
       "      <th>1046</th>\n",
       "      <td>2019/01/17</td>\n",
       "      <td>https://www.congress.gov/congressional-record/...</td>\n",
       "      <td>By Mrs. WATSON COLEMAN:</td>\n",
       "      <td>H.R. 687.        Congress has the power to ena...</td>\n",
       "    </tr>\n",
       "    <tr>\n",
       "      <th>1047</th>\n",
       "      <td>2019/01/17</td>\n",
       "      <td>https://www.congress.gov/congressional-record/...</td>\n",
       "      <td>By Mr. ZELDIN:</td>\n",
       "      <td>H.R. 688.        Congress has the power to ena...</td>\n",
       "    </tr>\n",
       "  </tbody>\n",
       "</table>\n",
       "<p>1048 rows × 4 columns</p>\n",
       "</div>"
      ],
      "text/plain": [
       "            date                                                url  \\\n",
       "0     2019/01/02  https://www.congress.gov/congressional-record/...   \n",
       "1     2019/01/02  https://www.congress.gov/congressional-record/...   \n",
       "2     2019/01/02  https://www.congress.gov/congressional-record/...   \n",
       "3     2019/01/02  https://www.congress.gov/congressional-record/...   \n",
       "4     2019/01/02  https://www.congress.gov/congressional-record/...   \n",
       "...          ...                                                ...   \n",
       "1043  2019/01/17  https://www.congress.gov/congressional-record/...   \n",
       "1044  2019/01/17  https://www.congress.gov/congressional-record/...   \n",
       "1045  2019/01/17  https://www.congress.gov/congressional-record/...   \n",
       "1046  2019/01/17  https://www.congress.gov/congressional-record/...   \n",
       "1047  2019/01/17  https://www.congress.gov/congressional-record/...   \n",
       "\n",
       "                               title  \\\n",
       "0               SENATE BILL REFERRED   \n",
       "1                        ADJOURNMENT   \n",
       "2     EXECUTIVE COMMUNICATIONS, ETC.   \n",
       "3                        THE JOURNAL   \n",
       "4               PLEDGE OF ALLEGIANCE   \n",
       "...                              ...   \n",
       "1043               By Mr. VISCLOSKY:   \n",
       "1044                  By Mr. WALDEN:   \n",
       "1045         By Mrs. WATSON COLEMAN:   \n",
       "1046         By Mrs. WATSON COLEMAN:   \n",
       "1047                  By Mr. ZELDIN:   \n",
       "\n",
       "                                                   text  \n",
       "0     A bill of the Senate of the following title wa...  \n",
       "1     The SPEAKER pro tempore. Pursuant to section 7...  \n",
       "2     Under clause 2 of rule XIV, executive communic...  \n",
       "3     The SPEAKER pro tempore. Pursuant to section 2...  \n",
       "4     The SPEAKER pro tempore. The Chair will lead t...  \n",
       "...                                                 ...  \n",
       "1043  H.R. 684.        Congress has the power to ena...  \n",
       "1044  H.R. 685.        Congress has the power to ena...  \n",
       "1045  H.R. 686.        Congress has the power to ena...  \n",
       "1046  H.R. 687.        Congress has the power to ena...  \n",
       "1047  H.R. 688.        Congress has the power to ena...  \n",
       "\n",
       "[1048 rows x 4 columns]"
      ]
     },
     "execution_count": 3,
     "metadata": {},
     "output_type": "execute_result"
    }
   ],
   "source": [
    "import pandas as pd\n",
    "speech = pd.read_csv(\"speeches.csv\")\n",
    "speech"
   ]
  },
  {
   "cell_type": "code",
   "execution_count": 5,
   "metadata": {},
   "outputs": [
    {
     "data": {
      "text/plain": [
       "\"The SPEAKER pro tempore. Pursuant to clause 12(a) of rule I, the  Chair declares the House in recess until 2 p.m. today.   Accordingly (at 12 o'clock and 18 minutes p.m.), the House stood in  recess.\""
      ]
     },
     "execution_count": 5,
     "metadata": {},
     "output_type": "execute_result"
    }
   ],
   "source": [
    "speech.loc[90,\"text\"]"
   ]
  },
  {
   "cell_type": "code",
   "execution_count": null,
   "metadata": {},
   "outputs": [],
   "source": []
  },
  {
   "cell_type": "code",
   "execution_count": null,
   "metadata": {},
   "outputs": [],
   "source": [
    "# based loosely on https://github.com/jchaskell/scraper-cr"
   ]
  },
  {
   "cell_type": "code",
   "execution_count": 15,
   "metadata": {},
   "outputs": [],
   "source": [
    "import math\n",
    "\n",
    "\n",
    "def entropy(string):\n",
    "    \"Calculates the Shannon entropy of a string\"\n",
    "\n",
    "    # get probability of chars in string\n",
    "    prob = [ float(string.count(c)) / len(string) for c in dict.fromkeys(list(string)) ]\n",
    "\n",
    "    # calculate the entropy\n",
    "    entropy = - sum([ p * math.log(p) / math.log(2.0) for p in prob ])\n",
    "\n",
    "    return entropy"
   ]
  },
  {
   "cell_type": "code",
   "execution_count": 1,
   "metadata": {},
   "outputs": [],
   "source": [
    "import os, re, requests, time\n",
    "from datetime import datetime, date, timedelta as td\n",
    "from bs4 import BeautifulSoup\n",
    "from time import sleep\n",
    "from urllib.parse import urljoin\n",
    "import csv\n",
    "from tqdm import tqdm\n",
    "import logging\n",
    "logging.basicConfig(filename='speeches.log', format='%(asctime)s : %(levelname)s : %(message)s', level=logging.INFO)"
   ]
  },
  {
   "cell_type": "code",
   "execution_count": 2,
   "metadata": {},
   "outputs": [],
   "source": [
    "start_date = \"01-01-2008\"\n",
    "end_date = \"01-31-2008\""
   ]
  },
  {
   "cell_type": "code",
   "execution_count": 3,
   "metadata": {},
   "outputs": [],
   "source": [
    "def daterange(start_date, end_date):\n",
    "    \"\"\"Creates a generator over a list of dates between the start and end date\"\"\"\n",
    "        #borrowed from: http://stackoverflow.com/questions/1060279/iterating-through-a-range-of-dates-in-python\n",
    "    start_date = [int(i) for i in start_date.split(\"-\")]\n",
    "    start_date = date(start_date[2], start_date[0], start_date[1])\n",
    "    end_date = [int(i) for i in end_date.split(\"-\")]\n",
    "    end_date = date(end_date[2], end_date[0], end_date[1])\n",
    "    for n in range(int ((end_date - start_date).days)):\n",
    "         yield(start_date + td(n))"
   ]
  },
  {
   "cell_type": "code",
   "execution_count": 4,
   "metadata": {},
   "outputs": [],
   "source": [
    "def scraper():\n",
    "    urls = []\n",
    "    url_beg = \"https://www.congress.gov/congressional-record/\"\n",
    "    url_end = \"/senate-section\"\n",
    "    dates_to_scrape = [single_date.strftime(\"%Y/%m/%d\") for single_date in daterange(start_date, end_date)]\n",
    "    for date in dates_to_scrape:\n",
    "        urls.append(url_beg + date + url_end)\n",
    "        #links = get_links(main_url)\n",
    "    return urls"
   ]
  },
  {
   "cell_type": "code",
   "execution_count": 5,
   "metadata": {},
   "outputs": [],
   "source": [
    "def get_links(lst_urls):\n",
    "    \"\"\"Gets links for one day of Senate CR\"\"\"\n",
    "    # print(url)\n",
    "    urls = [url for url in lst_urls]\n",
    "    links = []\n",
    "    for url in urls:\n",
    "        page = requests.get(url)\n",
    "        soup = BeautifulSoup(page.content)\n",
    "        tds = [td for td in soup.find_all('td')] #only even numbered indexes\n",
    "        tds_relevant = [tds[i] for i in range(len(tds)) if i % 2 == 0]\n",
    "        for link in tds_relevant:\n",
    "            links.append(urljoin(\"https://www.congress.gov/\", link.a.get('href')))\n",
    "    return links"
   ]
  },
  {
   "cell_type": "code",
   "execution_count": 6,
   "metadata": {},
   "outputs": [],
   "source": [
    "lst = get_links(scraper())\n"
   ]
  },
  {
   "cell_type": "code",
   "execution_count": 7,
   "metadata": {},
   "outputs": [
    {
     "data": {
      "text/plain": [
       "451"
      ]
     },
     "execution_count": 7,
     "metadata": {},
     "output_type": "execute_result"
    }
   ],
   "source": [
    "len(lst)"
   ]
  },
  {
   "cell_type": "code",
   "execution_count": 41,
   "metadata": {},
   "outputs": [],
   "source": [
    "def scrape_content(lst_links):\n",
    "    with open (\"speeches_from_2002.csv\",\"w\", newline=\"\", encoding=\"utf8\") as csvfile:\n",
    "        writer = csv.DictWriter(csvfile, fieldnames=[\"date\",\"url\", \"title\",\"text\"])\n",
    "        writer.writeheader()\n",
    "        lst_links = get_links(scraper())\n",
    "        for url in tqdm(lst_links):\n",
    "            date = re.search(r\"\\d{4}\\/\\d{2}\\/\\d{2}\", url).group(0)\n",
    "            page = requests.get(url)\n",
    "            soup = BeautifulSoup(page.content)\n",
    "            text = soup.find('pre', class_ = 'styled').text\n",
    "            text = text.replace(\"_\",\"\").replace(\"-\",\"\")\n",
    "            lines = [l for l in text.splitlines() if len(l) and not l.startswith(\"[\")]  \n",
    "            title = lines[1].lstrip()\n",
    "            text = \" \".join(lines[2:]).strip()\n",
    "            writer.writerow({\"date\": date, \"url\":url, \"title\":title,\"text\":text})"
   ]
  },
  {
   "cell_type": "code",
   "execution_count": 42,
   "metadata": {},
   "outputs": [
    {
     "name": "stderr",
     "output_type": "stream",
     "text": [
      "\n",
      "  0%|                                                                                        | 0/96089 [00:00<?, ?it/s]\u001b[A\n",
      "  0%|                                                                             | 1/96089 [00:00<17:10:59,  1.55it/s]\u001b[A\n",
      "  0%|                                                                             | 2/96089 [00:01<17:06:16,  1.56it/s]\u001b[A\n",
      "  0%|                                                                             | 3/96089 [00:02<18:02:50,  1.48it/s]\u001b[A\n",
      "  0%|                                                                             | 4/96089 [00:02<18:00:59,  1.48it/s]\u001b[A\n",
      "  0%|                                                                             | 5/96089 [00:03<17:57:23,  1.49it/s]\u001b[A\n",
      "  0%|                                                                             | 6/96089 [00:03<17:31:21,  1.52it/s]\u001b[A\n",
      "  0%|                                                                             | 7/96089 [00:04<17:49:36,  1.50it/s]\u001b[A\n",
      "  0%|                                                                             | 8/96089 [00:05<18:20:18,  1.46it/s]\u001b[A\n",
      "  0%|                                                                             | 9/96089 [00:06<17:42:34,  1.51it/s]\u001b[A\n",
      "  0%|                                                                            | 10/96089 [00:06<17:35:48,  1.52it/s]\u001b[A\n",
      "  0%|                                                                            | 11/96089 [00:07<17:29:53,  1.53it/s]\u001b[A\n",
      "  0%|                                                                            | 12/96089 [00:07<17:26:43,  1.53it/s]\u001b[A\n",
      "  0%|                                                                            | 13/96089 [00:08<17:31:50,  1.52it/s]\u001b[A\n",
      "  0%|                                                                            | 14/96089 [00:09<18:21:35,  1.45it/s]\u001b[A\n",
      "  0%|                                                                            | 15/96089 [00:10<18:22:43,  1.45it/s]\u001b[A\n",
      "  0%|                                                                            | 16/96089 [00:10<17:42:19,  1.51it/s]\u001b[A\n",
      "  0%|                                                                            | 17/96089 [00:11<17:20:38,  1.54it/s]\u001b[A\n",
      "  0%|                                                                            | 18/96089 [00:11<17:18:41,  1.54it/s]\u001b[A\n",
      "  0%|                                                                            | 19/96089 [00:12<17:41:22,  1.51it/s]\u001b[A\n",
      "  0%|                                                                            | 20/96089 [00:13<18:21:43,  1.45it/s]\u001b[A\n",
      "  0%|                                                                            | 21/96089 [00:14<18:14:22,  1.46it/s]\u001b[A\n",
      "  0%|                                                                            | 22/96089 [00:14<18:05:53,  1.47it/s]\u001b[A\n",
      "  0%|                                                                            | 23/96089 [00:15<17:44:55,  1.50it/s]\u001b[A\n",
      "  0%|                                                                            | 24/96089 [00:15<17:14:46,  1.55it/s]\u001b[A\n",
      "  0%|                                                                            | 25/96089 [00:16<17:53:11,  1.49it/s]\u001b[A\n",
      "  0%|                                                                            | 26/96089 [00:17<17:30:26,  1.52it/s]\u001b[A\n",
      "  0%|                                                                            | 27/96089 [00:17<17:34:23,  1.52it/s]\u001b[A\n",
      "  0%|                                                                            | 28/96089 [00:18<17:14:58,  1.55it/s]\u001b[A\n",
      "  0%|                                                                            | 29/96089 [00:19<17:53:04,  1.49it/s]\u001b[A\n",
      "  0%|                                                                            | 30/96089 [00:19<17:30:48,  1.52it/s]\u001b[A\n",
      "  0%|                                                                            | 31/96089 [00:20<18:19:35,  1.46it/s]\u001b[A\n",
      "  0%|                                                                            | 32/96089 [00:21<17:57:01,  1.49it/s]\u001b[A\n",
      "  0%|                                                                            | 33/96089 [00:22<17:45:36,  1.50it/s]\u001b[A\n",
      "  0%|                                                                            | 34/96089 [00:22<17:16:19,  1.54it/s]\u001b[A\n",
      "  0%|                                                                            | 35/96089 [00:23<17:15:42,  1.55it/s]\u001b[A\n",
      "  0%|                                                                            | 36/96089 [00:23<17:55:50,  1.49it/s]\u001b[A\n",
      "  0%|                                                                            | 37/96089 [00:24<17:31:48,  1.52it/s]\u001b[A\n",
      "  0%|                                                                            | 38/96089 [00:25<17:20:05,  1.54it/s]\u001b[A\n",
      "  0%|                                                                            | 39/96089 [00:25<17:11:35,  1.55it/s]\u001b[A\n",
      "  0%|                                                                            | 40/96089 [00:26<17:07:01,  1.56it/s]\u001b[A\n",
      "  0%|                                                                            | 41/96089 [00:27<17:09:10,  1.56it/s]\u001b[A\n",
      "  0%|                                                                            | 42/96089 [00:27<18:20:48,  1.45it/s]\u001b[A\n",
      "  0%|                                                                            | 43/96089 [00:28<17:51:53,  1.49it/s]\u001b[A\n",
      "  0%|                                                                            | 44/96089 [00:29<17:56:38,  1.49it/s]\u001b[A\n",
      "  0%|                                                                            | 45/96089 [00:29<17:38:36,  1.51it/s]\u001b[A\n",
      "  0%|                                                                            | 46/96089 [00:30<17:26:01,  1.53it/s]\u001b[A\n",
      "  0%|                                                                            | 47/96089 [00:31<17:38:51,  1.51it/s]\u001b[A\n",
      "  0%|                                                                            | 48/96089 [00:31<18:19:09,  1.46it/s]\u001b[A\n",
      "  0%|                                                                            | 49/96089 [00:32<17:48:18,  1.50it/s]\u001b[A\n",
      "  0%|                                                                            | 50/96089 [00:33<17:32:55,  1.52it/s]\u001b[A\n",
      "  0%|                                                                            | 51/96089 [00:33<17:35:50,  1.52it/s]\u001b[A\n",
      "  0%|                                                                            | 52/96089 [00:34<17:38:54,  1.51it/s]\u001b[A\n",
      "  0%|                                                                            | 53/96089 [00:35<18:03:10,  1.48it/s]\u001b[A\n",
      "  0%|                                                                            | 54/96089 [00:35<17:45:54,  1.50it/s]\u001b[A\n",
      "  0%|                                                                            | 55/96089 [00:36<17:52:16,  1.49it/s]\u001b[A\n",
      "  0%|                                                                            | 56/96089 [00:37<17:49:57,  1.50it/s]\u001b[A\n",
      "  0%|                                                                            | 57/96089 [00:37<17:42:11,  1.51it/s]\u001b[A\n",
      "  0%|                                                                            | 58/96089 [00:38<18:05:56,  1.47it/s]\u001b[A\n",
      "  0%|                                                                            | 59/96089 [00:39<18:42:13,  1.43it/s]\u001b[A\n",
      "  0%|                                                                            | 60/96089 [00:40<18:40:29,  1.43it/s]\u001b[A\n",
      "  0%|                                                                            | 61/96089 [00:40<18:40:05,  1.43it/s]\u001b[A\n",
      "  0%|                                                                            | 62/96089 [00:41<18:47:39,  1.42it/s]\u001b[A\n",
      "  0%|                                                                            | 63/96089 [00:42<19:08:40,  1.39it/s]\u001b[A\n",
      "  0%|                                                                            | 64/96089 [00:42<19:08:12,  1.39it/s]\u001b[A\n",
      "  0%|                                                                            | 65/96089 [00:43<18:31:41,  1.44it/s]\u001b[A\n",
      "  0%|                                                                            | 66/96089 [00:44<18:09:23,  1.47it/s]\u001b[A\n",
      "  0%|                                                                            | 67/96089 [00:44<17:47:19,  1.50it/s]\u001b[A\n",
      "  0%|                                                                            | 68/96089 [00:45<17:27:52,  1.53it/s]\u001b[A\n",
      "  0%|                                                                            | 69/96089 [00:46<17:26:29,  1.53it/s]\u001b[A\n",
      "  0%|                                                                            | 70/96089 [00:46<18:15:53,  1.46it/s]\u001b[A\n",
      "  0%|                                                                            | 71/96089 [00:47<18:51:33,  1.41it/s]\u001b[A\n",
      "  0%|                                                                            | 72/96089 [00:48<18:09:29,  1.47it/s]\u001b[A\n",
      "  0%|                                                                            | 73/96089 [00:48<17:53:11,  1.49it/s]\u001b[A\n",
      "  0%|                                                                            | 74/96089 [00:49<17:44:05,  1.50it/s]\u001b[A\n",
      "  0%|                                                                            | 75/96089 [00:50<17:45:21,  1.50it/s]\u001b[A\n",
      "  0%|                                                                            | 76/96089 [00:50<18:01:08,  1.48it/s]\u001b[A\n",
      "  0%|                                                                            | 77/96089 [00:51<17:56:30,  1.49it/s]\u001b[A\n",
      "  0%|                                                                            | 78/96089 [00:52<17:46:22,  1.50it/s]\u001b[A\n",
      "  0%|                                                                            | 79/96089 [00:52<17:45:35,  1.50it/s]\u001b[A\n",
      "  0%|                                                                            | 80/96089 [00:54<21:39:05,  1.23it/s]\u001b[A\n",
      "  0%|                                                                            | 81/96089 [00:54<22:08:30,  1.20it/s]\u001b[A\n",
      "  0%|                                                                            | 82/96089 [00:55<20:20:10,  1.31it/s]\u001b[A\n",
      "  0%|                                                                            | 83/96089 [00:56<19:14:48,  1.39it/s]\u001b[A\n",
      "  0%|                                                                            | 84/96089 [00:56<18:47:01,  1.42it/s]\u001b[A\n",
      "  0%|                                                                            | 85/96089 [00:57<18:33:56,  1.44it/s]\u001b[A\n",
      "  0%|                                                                            | 86/96089 [00:58<18:00:31,  1.48it/s]\u001b[A\n",
      "  0%|                                                                            | 87/96089 [00:58<18:31:10,  1.44it/s]\u001b[A"
     ]
    },
    {
     "ename": "KeyboardInterrupt",
     "evalue": "",
     "output_type": "error",
     "traceback": [
      "\u001b[1;31m---------------------------------------------------------------------------\u001b[0m",
      "\u001b[1;31mTypeError\u001b[0m                                 Traceback (most recent call last)",
      "\u001b[1;32m~\\Anaconda3\\lib\\site-packages\\urllib3\\connectionpool.py\u001b[0m in \u001b[0;36m_make_request\u001b[1;34m(self, conn, method, url, timeout, chunked, **httplib_request_kw)\u001b[0m\n\u001b[0;32m    376\u001b[0m             \u001b[1;32mtry\u001b[0m\u001b[1;33m:\u001b[0m  \u001b[1;31m# Python 2.7, use buffering of HTTP responses\u001b[0m\u001b[1;33m\u001b[0m\u001b[1;33m\u001b[0m\u001b[0m\n\u001b[1;32m--> 377\u001b[1;33m                 \u001b[0mhttplib_response\u001b[0m \u001b[1;33m=\u001b[0m \u001b[0mconn\u001b[0m\u001b[1;33m.\u001b[0m\u001b[0mgetresponse\u001b[0m\u001b[1;33m(\u001b[0m\u001b[0mbuffering\u001b[0m\u001b[1;33m=\u001b[0m\u001b[1;32mTrue\u001b[0m\u001b[1;33m)\u001b[0m\u001b[1;33m\u001b[0m\u001b[1;33m\u001b[0m\u001b[0m\n\u001b[0m\u001b[0;32m    378\u001b[0m             \u001b[1;32mexcept\u001b[0m \u001b[0mTypeError\u001b[0m\u001b[1;33m:\u001b[0m  \u001b[1;31m# Python 3\u001b[0m\u001b[1;33m\u001b[0m\u001b[1;33m\u001b[0m\u001b[0m\n",
      "\u001b[1;31mTypeError\u001b[0m: getresponse() got an unexpected keyword argument 'buffering'",
      "\nDuring handling of the above exception, another exception occurred:\n",
      "\u001b[1;31mKeyboardInterrupt\u001b[0m                         Traceback (most recent call last)",
      "\u001b[1;32m<ipython-input-42-31c07462c902>\u001b[0m in \u001b[0;36m<module>\u001b[1;34m\u001b[0m\n\u001b[1;32m----> 1\u001b[1;33m \u001b[0mscrape_content\u001b[0m\u001b[1;33m(\u001b[0m\u001b[0mget_links\u001b[0m\u001b[1;33m(\u001b[0m\u001b[0mscraper\u001b[0m\u001b[1;33m(\u001b[0m\u001b[1;33m)\u001b[0m\u001b[1;33m)\u001b[0m\u001b[1;33m)\u001b[0m\u001b[1;33m\u001b[0m\u001b[1;33m\u001b[0m\u001b[0m\n\u001b[0m",
      "\u001b[1;32m<ipython-input-41-4ce30451f887>\u001b[0m in \u001b[0;36mscrape_content\u001b[1;34m(lst_links)\u001b[0m\n\u001b[0;32m      6\u001b[0m         \u001b[1;32mfor\u001b[0m \u001b[0murl\u001b[0m \u001b[1;32min\u001b[0m \u001b[0mtqdm\u001b[0m\u001b[1;33m(\u001b[0m\u001b[0mlst_links\u001b[0m\u001b[1;33m)\u001b[0m\u001b[1;33m:\u001b[0m\u001b[1;33m\u001b[0m\u001b[1;33m\u001b[0m\u001b[0m\n\u001b[0;32m      7\u001b[0m             \u001b[0mdate\u001b[0m \u001b[1;33m=\u001b[0m \u001b[0mre\u001b[0m\u001b[1;33m.\u001b[0m\u001b[0msearch\u001b[0m\u001b[1;33m(\u001b[0m\u001b[1;34mr\"\\d{4}\\/\\d{2}\\/\\d{2}\"\u001b[0m\u001b[1;33m,\u001b[0m \u001b[0murl\u001b[0m\u001b[1;33m)\u001b[0m\u001b[1;33m.\u001b[0m\u001b[0mgroup\u001b[0m\u001b[1;33m(\u001b[0m\u001b[1;36m0\u001b[0m\u001b[1;33m)\u001b[0m\u001b[1;33m\u001b[0m\u001b[1;33m\u001b[0m\u001b[0m\n\u001b[1;32m----> 8\u001b[1;33m             \u001b[0mpage\u001b[0m \u001b[1;33m=\u001b[0m \u001b[0mrequests\u001b[0m\u001b[1;33m.\u001b[0m\u001b[0mget\u001b[0m\u001b[1;33m(\u001b[0m\u001b[0murl\u001b[0m\u001b[1;33m)\u001b[0m\u001b[1;33m\u001b[0m\u001b[1;33m\u001b[0m\u001b[0m\n\u001b[0m\u001b[0;32m      9\u001b[0m             \u001b[0msoup\u001b[0m \u001b[1;33m=\u001b[0m \u001b[0mBeautifulSoup\u001b[0m\u001b[1;33m(\u001b[0m\u001b[0mpage\u001b[0m\u001b[1;33m.\u001b[0m\u001b[0mcontent\u001b[0m\u001b[1;33m)\u001b[0m\u001b[1;33m\u001b[0m\u001b[1;33m\u001b[0m\u001b[0m\n\u001b[0;32m     10\u001b[0m             \u001b[0mtext\u001b[0m \u001b[1;33m=\u001b[0m \u001b[0msoup\u001b[0m\u001b[1;33m.\u001b[0m\u001b[0mfind\u001b[0m\u001b[1;33m(\u001b[0m\u001b[1;34m'pre'\u001b[0m\u001b[1;33m,\u001b[0m \u001b[0mclass_\u001b[0m \u001b[1;33m=\u001b[0m \u001b[1;34m'styled'\u001b[0m\u001b[1;33m)\u001b[0m\u001b[1;33m.\u001b[0m\u001b[0mtext\u001b[0m\u001b[1;33m\u001b[0m\u001b[1;33m\u001b[0m\u001b[0m\n",
      "\u001b[1;32m~\\Anaconda3\\lib\\site-packages\\requests\\api.py\u001b[0m in \u001b[0;36mget\u001b[1;34m(url, params, **kwargs)\u001b[0m\n\u001b[0;32m     73\u001b[0m \u001b[1;33m\u001b[0m\u001b[0m\n\u001b[0;32m     74\u001b[0m     \u001b[0mkwargs\u001b[0m\u001b[1;33m.\u001b[0m\u001b[0msetdefault\u001b[0m\u001b[1;33m(\u001b[0m\u001b[1;34m'allow_redirects'\u001b[0m\u001b[1;33m,\u001b[0m \u001b[1;32mTrue\u001b[0m\u001b[1;33m)\u001b[0m\u001b[1;33m\u001b[0m\u001b[1;33m\u001b[0m\u001b[0m\n\u001b[1;32m---> 75\u001b[1;33m     \u001b[1;32mreturn\u001b[0m \u001b[0mrequest\u001b[0m\u001b[1;33m(\u001b[0m\u001b[1;34m'get'\u001b[0m\u001b[1;33m,\u001b[0m \u001b[0murl\u001b[0m\u001b[1;33m,\u001b[0m \u001b[0mparams\u001b[0m\u001b[1;33m=\u001b[0m\u001b[0mparams\u001b[0m\u001b[1;33m,\u001b[0m \u001b[1;33m**\u001b[0m\u001b[0mkwargs\u001b[0m\u001b[1;33m)\u001b[0m\u001b[1;33m\u001b[0m\u001b[1;33m\u001b[0m\u001b[0m\n\u001b[0m\u001b[0;32m     76\u001b[0m \u001b[1;33m\u001b[0m\u001b[0m\n\u001b[0;32m     77\u001b[0m \u001b[1;33m\u001b[0m\u001b[0m\n",
      "\u001b[1;32m~\\Anaconda3\\lib\\site-packages\\requests\\api.py\u001b[0m in \u001b[0;36mrequest\u001b[1;34m(method, url, **kwargs)\u001b[0m\n\u001b[0;32m     58\u001b[0m     \u001b[1;31m# cases, and look like a memory leak in others.\u001b[0m\u001b[1;33m\u001b[0m\u001b[1;33m\u001b[0m\u001b[1;33m\u001b[0m\u001b[0m\n\u001b[0;32m     59\u001b[0m     \u001b[1;32mwith\u001b[0m \u001b[0msessions\u001b[0m\u001b[1;33m.\u001b[0m\u001b[0mSession\u001b[0m\u001b[1;33m(\u001b[0m\u001b[1;33m)\u001b[0m \u001b[1;32mas\u001b[0m \u001b[0msession\u001b[0m\u001b[1;33m:\u001b[0m\u001b[1;33m\u001b[0m\u001b[1;33m\u001b[0m\u001b[0m\n\u001b[1;32m---> 60\u001b[1;33m         \u001b[1;32mreturn\u001b[0m \u001b[0msession\u001b[0m\u001b[1;33m.\u001b[0m\u001b[0mrequest\u001b[0m\u001b[1;33m(\u001b[0m\u001b[0mmethod\u001b[0m\u001b[1;33m=\u001b[0m\u001b[0mmethod\u001b[0m\u001b[1;33m,\u001b[0m \u001b[0murl\u001b[0m\u001b[1;33m=\u001b[0m\u001b[0murl\u001b[0m\u001b[1;33m,\u001b[0m \u001b[1;33m**\u001b[0m\u001b[0mkwargs\u001b[0m\u001b[1;33m)\u001b[0m\u001b[1;33m\u001b[0m\u001b[1;33m\u001b[0m\u001b[0m\n\u001b[0m\u001b[0;32m     61\u001b[0m \u001b[1;33m\u001b[0m\u001b[0m\n\u001b[0;32m     62\u001b[0m \u001b[1;33m\u001b[0m\u001b[0m\n",
      "\u001b[1;32m~\\Anaconda3\\lib\\site-packages\\requests\\sessions.py\u001b[0m in \u001b[0;36mrequest\u001b[1;34m(self, method, url, params, data, headers, cookies, files, auth, timeout, allow_redirects, proxies, hooks, stream, verify, cert, json)\u001b[0m\n\u001b[0;32m    531\u001b[0m         }\n\u001b[0;32m    532\u001b[0m         \u001b[0msend_kwargs\u001b[0m\u001b[1;33m.\u001b[0m\u001b[0mupdate\u001b[0m\u001b[1;33m(\u001b[0m\u001b[0msettings\u001b[0m\u001b[1;33m)\u001b[0m\u001b[1;33m\u001b[0m\u001b[1;33m\u001b[0m\u001b[0m\n\u001b[1;32m--> 533\u001b[1;33m         \u001b[0mresp\u001b[0m \u001b[1;33m=\u001b[0m \u001b[0mself\u001b[0m\u001b[1;33m.\u001b[0m\u001b[0msend\u001b[0m\u001b[1;33m(\u001b[0m\u001b[0mprep\u001b[0m\u001b[1;33m,\u001b[0m \u001b[1;33m**\u001b[0m\u001b[0msend_kwargs\u001b[0m\u001b[1;33m)\u001b[0m\u001b[1;33m\u001b[0m\u001b[1;33m\u001b[0m\u001b[0m\n\u001b[0m\u001b[0;32m    534\u001b[0m \u001b[1;33m\u001b[0m\u001b[0m\n\u001b[0;32m    535\u001b[0m         \u001b[1;32mreturn\u001b[0m \u001b[0mresp\u001b[0m\u001b[1;33m\u001b[0m\u001b[1;33m\u001b[0m\u001b[0m\n",
      "\u001b[1;32m~\\Anaconda3\\lib\\site-packages\\requests\\sessions.py\u001b[0m in \u001b[0;36msend\u001b[1;34m(self, request, **kwargs)\u001b[0m\n\u001b[0;32m    644\u001b[0m \u001b[1;33m\u001b[0m\u001b[0m\n\u001b[0;32m    645\u001b[0m         \u001b[1;31m# Send the request\u001b[0m\u001b[1;33m\u001b[0m\u001b[1;33m\u001b[0m\u001b[1;33m\u001b[0m\u001b[0m\n\u001b[1;32m--> 646\u001b[1;33m         \u001b[0mr\u001b[0m \u001b[1;33m=\u001b[0m \u001b[0madapter\u001b[0m\u001b[1;33m.\u001b[0m\u001b[0msend\u001b[0m\u001b[1;33m(\u001b[0m\u001b[0mrequest\u001b[0m\u001b[1;33m,\u001b[0m \u001b[1;33m**\u001b[0m\u001b[0mkwargs\u001b[0m\u001b[1;33m)\u001b[0m\u001b[1;33m\u001b[0m\u001b[1;33m\u001b[0m\u001b[0m\n\u001b[0m\u001b[0;32m    647\u001b[0m \u001b[1;33m\u001b[0m\u001b[0m\n\u001b[0;32m    648\u001b[0m         \u001b[1;31m# Total elapsed time of the request (approximately)\u001b[0m\u001b[1;33m\u001b[0m\u001b[1;33m\u001b[0m\u001b[1;33m\u001b[0m\u001b[0m\n",
      "\u001b[1;32m~\\Anaconda3\\lib\\site-packages\\requests\\adapters.py\u001b[0m in \u001b[0;36msend\u001b[1;34m(self, request, stream, timeout, verify, cert, proxies)\u001b[0m\n\u001b[0;32m    447\u001b[0m                     \u001b[0mdecode_content\u001b[0m\u001b[1;33m=\u001b[0m\u001b[1;32mFalse\u001b[0m\u001b[1;33m,\u001b[0m\u001b[1;33m\u001b[0m\u001b[1;33m\u001b[0m\u001b[0m\n\u001b[0;32m    448\u001b[0m                     \u001b[0mretries\u001b[0m\u001b[1;33m=\u001b[0m\u001b[0mself\u001b[0m\u001b[1;33m.\u001b[0m\u001b[0mmax_retries\u001b[0m\u001b[1;33m,\u001b[0m\u001b[1;33m\u001b[0m\u001b[1;33m\u001b[0m\u001b[0m\n\u001b[1;32m--> 449\u001b[1;33m                     \u001b[0mtimeout\u001b[0m\u001b[1;33m=\u001b[0m\u001b[0mtimeout\u001b[0m\u001b[1;33m\u001b[0m\u001b[1;33m\u001b[0m\u001b[0m\n\u001b[0m\u001b[0;32m    450\u001b[0m                 )\n\u001b[0;32m    451\u001b[0m \u001b[1;33m\u001b[0m\u001b[0m\n",
      "\u001b[1;32m~\\Anaconda3\\lib\\site-packages\\urllib3\\connectionpool.py\u001b[0m in \u001b[0;36murlopen\u001b[1;34m(self, method, url, body, headers, retries, redirect, assert_same_host, timeout, pool_timeout, release_conn, chunked, body_pos, **response_kw)\u001b[0m\n\u001b[0;32m    598\u001b[0m                                                   \u001b[0mtimeout\u001b[0m\u001b[1;33m=\u001b[0m\u001b[0mtimeout_obj\u001b[0m\u001b[1;33m,\u001b[0m\u001b[1;33m\u001b[0m\u001b[1;33m\u001b[0m\u001b[0m\n\u001b[0;32m    599\u001b[0m                                                   \u001b[0mbody\u001b[0m\u001b[1;33m=\u001b[0m\u001b[0mbody\u001b[0m\u001b[1;33m,\u001b[0m \u001b[0mheaders\u001b[0m\u001b[1;33m=\u001b[0m\u001b[0mheaders\u001b[0m\u001b[1;33m,\u001b[0m\u001b[1;33m\u001b[0m\u001b[1;33m\u001b[0m\u001b[0m\n\u001b[1;32m--> 600\u001b[1;33m                                                   chunked=chunked)\n\u001b[0m\u001b[0;32m    601\u001b[0m \u001b[1;33m\u001b[0m\u001b[0m\n\u001b[0;32m    602\u001b[0m             \u001b[1;31m# If we're going to release the connection in ``finally:``, then\u001b[0m\u001b[1;33m\u001b[0m\u001b[1;33m\u001b[0m\u001b[1;33m\u001b[0m\u001b[0m\n",
      "\u001b[1;32m~\\Anaconda3\\lib\\site-packages\\urllib3\\connectionpool.py\u001b[0m in \u001b[0;36m_make_request\u001b[1;34m(self, conn, method, url, timeout, chunked, **httplib_request_kw)\u001b[0m\n\u001b[0;32m    378\u001b[0m             \u001b[1;32mexcept\u001b[0m \u001b[0mTypeError\u001b[0m\u001b[1;33m:\u001b[0m  \u001b[1;31m# Python 3\u001b[0m\u001b[1;33m\u001b[0m\u001b[1;33m\u001b[0m\u001b[0m\n\u001b[0;32m    379\u001b[0m                 \u001b[1;32mtry\u001b[0m\u001b[1;33m:\u001b[0m\u001b[1;33m\u001b[0m\u001b[1;33m\u001b[0m\u001b[0m\n\u001b[1;32m--> 380\u001b[1;33m                     \u001b[0mhttplib_response\u001b[0m \u001b[1;33m=\u001b[0m \u001b[0mconn\u001b[0m\u001b[1;33m.\u001b[0m\u001b[0mgetresponse\u001b[0m\u001b[1;33m(\u001b[0m\u001b[1;33m)\u001b[0m\u001b[1;33m\u001b[0m\u001b[1;33m\u001b[0m\u001b[0m\n\u001b[0m\u001b[0;32m    381\u001b[0m                 \u001b[1;32mexcept\u001b[0m \u001b[0mException\u001b[0m \u001b[1;32mas\u001b[0m \u001b[0me\u001b[0m\u001b[1;33m:\u001b[0m\u001b[1;33m\u001b[0m\u001b[1;33m\u001b[0m\u001b[0m\n\u001b[0;32m    382\u001b[0m                     \u001b[1;31m# Remove the TypeError from the exception chain in Python 3;\u001b[0m\u001b[1;33m\u001b[0m\u001b[1;33m\u001b[0m\u001b[1;33m\u001b[0m\u001b[0m\n",
      "\u001b[1;32m~\\Anaconda3\\lib\\http\\client.py\u001b[0m in \u001b[0;36mgetresponse\u001b[1;34m(self)\u001b[0m\n\u001b[0;32m   1319\u001b[0m         \u001b[1;32mtry\u001b[0m\u001b[1;33m:\u001b[0m\u001b[1;33m\u001b[0m\u001b[1;33m\u001b[0m\u001b[0m\n\u001b[0;32m   1320\u001b[0m             \u001b[1;32mtry\u001b[0m\u001b[1;33m:\u001b[0m\u001b[1;33m\u001b[0m\u001b[1;33m\u001b[0m\u001b[0m\n\u001b[1;32m-> 1321\u001b[1;33m                 \u001b[0mresponse\u001b[0m\u001b[1;33m.\u001b[0m\u001b[0mbegin\u001b[0m\u001b[1;33m(\u001b[0m\u001b[1;33m)\u001b[0m\u001b[1;33m\u001b[0m\u001b[1;33m\u001b[0m\u001b[0m\n\u001b[0m\u001b[0;32m   1322\u001b[0m             \u001b[1;32mexcept\u001b[0m \u001b[0mConnectionError\u001b[0m\u001b[1;33m:\u001b[0m\u001b[1;33m\u001b[0m\u001b[1;33m\u001b[0m\u001b[0m\n\u001b[0;32m   1323\u001b[0m                 \u001b[0mself\u001b[0m\u001b[1;33m.\u001b[0m\u001b[0mclose\u001b[0m\u001b[1;33m(\u001b[0m\u001b[1;33m)\u001b[0m\u001b[1;33m\u001b[0m\u001b[1;33m\u001b[0m\u001b[0m\n",
      "\u001b[1;32m~\\Anaconda3\\lib\\http\\client.py\u001b[0m in \u001b[0;36mbegin\u001b[1;34m(self)\u001b[0m\n\u001b[0;32m    294\u001b[0m         \u001b[1;31m# read until we get a non-100 response\u001b[0m\u001b[1;33m\u001b[0m\u001b[1;33m\u001b[0m\u001b[1;33m\u001b[0m\u001b[0m\n\u001b[0;32m    295\u001b[0m         \u001b[1;32mwhile\u001b[0m \u001b[1;32mTrue\u001b[0m\u001b[1;33m:\u001b[0m\u001b[1;33m\u001b[0m\u001b[1;33m\u001b[0m\u001b[0m\n\u001b[1;32m--> 296\u001b[1;33m             \u001b[0mversion\u001b[0m\u001b[1;33m,\u001b[0m \u001b[0mstatus\u001b[0m\u001b[1;33m,\u001b[0m \u001b[0mreason\u001b[0m \u001b[1;33m=\u001b[0m \u001b[0mself\u001b[0m\u001b[1;33m.\u001b[0m\u001b[0m_read_status\u001b[0m\u001b[1;33m(\u001b[0m\u001b[1;33m)\u001b[0m\u001b[1;33m\u001b[0m\u001b[1;33m\u001b[0m\u001b[0m\n\u001b[0m\u001b[0;32m    297\u001b[0m             \u001b[1;32mif\u001b[0m \u001b[0mstatus\u001b[0m \u001b[1;33m!=\u001b[0m \u001b[0mCONTINUE\u001b[0m\u001b[1;33m:\u001b[0m\u001b[1;33m\u001b[0m\u001b[1;33m\u001b[0m\u001b[0m\n\u001b[0;32m    298\u001b[0m                 \u001b[1;32mbreak\u001b[0m\u001b[1;33m\u001b[0m\u001b[1;33m\u001b[0m\u001b[0m\n",
      "\u001b[1;32m~\\Anaconda3\\lib\\http\\client.py\u001b[0m in \u001b[0;36m_read_status\u001b[1;34m(self)\u001b[0m\n\u001b[0;32m    255\u001b[0m \u001b[1;33m\u001b[0m\u001b[0m\n\u001b[0;32m    256\u001b[0m     \u001b[1;32mdef\u001b[0m \u001b[0m_read_status\u001b[0m\u001b[1;33m(\u001b[0m\u001b[0mself\u001b[0m\u001b[1;33m)\u001b[0m\u001b[1;33m:\u001b[0m\u001b[1;33m\u001b[0m\u001b[1;33m\u001b[0m\u001b[0m\n\u001b[1;32m--> 257\u001b[1;33m         \u001b[0mline\u001b[0m \u001b[1;33m=\u001b[0m \u001b[0mstr\u001b[0m\u001b[1;33m(\u001b[0m\u001b[0mself\u001b[0m\u001b[1;33m.\u001b[0m\u001b[0mfp\u001b[0m\u001b[1;33m.\u001b[0m\u001b[0mreadline\u001b[0m\u001b[1;33m(\u001b[0m\u001b[0m_MAXLINE\u001b[0m \u001b[1;33m+\u001b[0m \u001b[1;36m1\u001b[0m\u001b[1;33m)\u001b[0m\u001b[1;33m,\u001b[0m \u001b[1;34m\"iso-8859-1\"\u001b[0m\u001b[1;33m)\u001b[0m\u001b[1;33m\u001b[0m\u001b[1;33m\u001b[0m\u001b[0m\n\u001b[0m\u001b[0;32m    258\u001b[0m         \u001b[1;32mif\u001b[0m \u001b[0mlen\u001b[0m\u001b[1;33m(\u001b[0m\u001b[0mline\u001b[0m\u001b[1;33m)\u001b[0m \u001b[1;33m>\u001b[0m \u001b[0m_MAXLINE\u001b[0m\u001b[1;33m:\u001b[0m\u001b[1;33m\u001b[0m\u001b[1;33m\u001b[0m\u001b[0m\n\u001b[0;32m    259\u001b[0m             \u001b[1;32mraise\u001b[0m \u001b[0mLineTooLong\u001b[0m\u001b[1;33m(\u001b[0m\u001b[1;34m\"status line\"\u001b[0m\u001b[1;33m)\u001b[0m\u001b[1;33m\u001b[0m\u001b[1;33m\u001b[0m\u001b[0m\n",
      "\u001b[1;32m~\\Anaconda3\\lib\\socket.py\u001b[0m in \u001b[0;36mreadinto\u001b[1;34m(self, b)\u001b[0m\n\u001b[0;32m    587\u001b[0m         \u001b[1;32mwhile\u001b[0m \u001b[1;32mTrue\u001b[0m\u001b[1;33m:\u001b[0m\u001b[1;33m\u001b[0m\u001b[1;33m\u001b[0m\u001b[0m\n\u001b[0;32m    588\u001b[0m             \u001b[1;32mtry\u001b[0m\u001b[1;33m:\u001b[0m\u001b[1;33m\u001b[0m\u001b[1;33m\u001b[0m\u001b[0m\n\u001b[1;32m--> 589\u001b[1;33m                 \u001b[1;32mreturn\u001b[0m \u001b[0mself\u001b[0m\u001b[1;33m.\u001b[0m\u001b[0m_sock\u001b[0m\u001b[1;33m.\u001b[0m\u001b[0mrecv_into\u001b[0m\u001b[1;33m(\u001b[0m\u001b[0mb\u001b[0m\u001b[1;33m)\u001b[0m\u001b[1;33m\u001b[0m\u001b[1;33m\u001b[0m\u001b[0m\n\u001b[0m\u001b[0;32m    590\u001b[0m             \u001b[1;32mexcept\u001b[0m \u001b[0mtimeout\u001b[0m\u001b[1;33m:\u001b[0m\u001b[1;33m\u001b[0m\u001b[1;33m\u001b[0m\u001b[0m\n\u001b[0;32m    591\u001b[0m                 \u001b[0mself\u001b[0m\u001b[1;33m.\u001b[0m\u001b[0m_timeout_occurred\u001b[0m \u001b[1;33m=\u001b[0m \u001b[1;32mTrue\u001b[0m\u001b[1;33m\u001b[0m\u001b[1;33m\u001b[0m\u001b[0m\n",
      "\u001b[1;32m~\\Anaconda3\\lib\\site-packages\\urllib3\\contrib\\pyopenssl.py\u001b[0m in \u001b[0;36mrecv_into\u001b[1;34m(self, *args, **kwargs)\u001b[0m\n\u001b[0;32m    292\u001b[0m     \u001b[1;32mdef\u001b[0m \u001b[0mrecv_into\u001b[0m\u001b[1;33m(\u001b[0m\u001b[0mself\u001b[0m\u001b[1;33m,\u001b[0m \u001b[1;33m*\u001b[0m\u001b[0margs\u001b[0m\u001b[1;33m,\u001b[0m \u001b[1;33m**\u001b[0m\u001b[0mkwargs\u001b[0m\u001b[1;33m)\u001b[0m\u001b[1;33m:\u001b[0m\u001b[1;33m\u001b[0m\u001b[1;33m\u001b[0m\u001b[0m\n\u001b[0;32m    293\u001b[0m         \u001b[1;32mtry\u001b[0m\u001b[1;33m:\u001b[0m\u001b[1;33m\u001b[0m\u001b[1;33m\u001b[0m\u001b[0m\n\u001b[1;32m--> 294\u001b[1;33m             \u001b[1;32mreturn\u001b[0m \u001b[0mself\u001b[0m\u001b[1;33m.\u001b[0m\u001b[0mconnection\u001b[0m\u001b[1;33m.\u001b[0m\u001b[0mrecv_into\u001b[0m\u001b[1;33m(\u001b[0m\u001b[1;33m*\u001b[0m\u001b[0margs\u001b[0m\u001b[1;33m,\u001b[0m \u001b[1;33m**\u001b[0m\u001b[0mkwargs\u001b[0m\u001b[1;33m)\u001b[0m\u001b[1;33m\u001b[0m\u001b[1;33m\u001b[0m\u001b[0m\n\u001b[0m\u001b[0;32m    295\u001b[0m         \u001b[1;32mexcept\u001b[0m \u001b[0mOpenSSL\u001b[0m\u001b[1;33m.\u001b[0m\u001b[0mSSL\u001b[0m\u001b[1;33m.\u001b[0m\u001b[0mSysCallError\u001b[0m \u001b[1;32mas\u001b[0m \u001b[0me\u001b[0m\u001b[1;33m:\u001b[0m\u001b[1;33m\u001b[0m\u001b[1;33m\u001b[0m\u001b[0m\n\u001b[0;32m    296\u001b[0m             \u001b[1;32mif\u001b[0m \u001b[0mself\u001b[0m\u001b[1;33m.\u001b[0m\u001b[0msuppress_ragged_eofs\u001b[0m \u001b[1;32mand\u001b[0m \u001b[0me\u001b[0m\u001b[1;33m.\u001b[0m\u001b[0margs\u001b[0m \u001b[1;33m==\u001b[0m \u001b[1;33m(\u001b[0m\u001b[1;33m-\u001b[0m\u001b[1;36m1\u001b[0m\u001b[1;33m,\u001b[0m \u001b[1;34m'Unexpected EOF'\u001b[0m\u001b[1;33m)\u001b[0m\u001b[1;33m:\u001b[0m\u001b[1;33m\u001b[0m\u001b[1;33m\u001b[0m\u001b[0m\n",
      "\u001b[1;32m~\\Anaconda3\\lib\\site-packages\\OpenSSL\\SSL.py\u001b[0m in \u001b[0;36mrecv_into\u001b[1;34m(self, buffer, nbytes, flags)\u001b[0m\n\u001b[0;32m   1819\u001b[0m             \u001b[0mresult\u001b[0m \u001b[1;33m=\u001b[0m \u001b[0m_lib\u001b[0m\u001b[1;33m.\u001b[0m\u001b[0mSSL_peek\u001b[0m\u001b[1;33m(\u001b[0m\u001b[0mself\u001b[0m\u001b[1;33m.\u001b[0m\u001b[0m_ssl\u001b[0m\u001b[1;33m,\u001b[0m \u001b[0mbuf\u001b[0m\u001b[1;33m,\u001b[0m \u001b[0mnbytes\u001b[0m\u001b[1;33m)\u001b[0m\u001b[1;33m\u001b[0m\u001b[1;33m\u001b[0m\u001b[0m\n\u001b[0;32m   1820\u001b[0m         \u001b[1;32melse\u001b[0m\u001b[1;33m:\u001b[0m\u001b[1;33m\u001b[0m\u001b[1;33m\u001b[0m\u001b[0m\n\u001b[1;32m-> 1821\u001b[1;33m             \u001b[0mresult\u001b[0m \u001b[1;33m=\u001b[0m \u001b[0m_lib\u001b[0m\u001b[1;33m.\u001b[0m\u001b[0mSSL_read\u001b[0m\u001b[1;33m(\u001b[0m\u001b[0mself\u001b[0m\u001b[1;33m.\u001b[0m\u001b[0m_ssl\u001b[0m\u001b[1;33m,\u001b[0m \u001b[0mbuf\u001b[0m\u001b[1;33m,\u001b[0m \u001b[0mnbytes\u001b[0m\u001b[1;33m)\u001b[0m\u001b[1;33m\u001b[0m\u001b[1;33m\u001b[0m\u001b[0m\n\u001b[0m\u001b[0;32m   1822\u001b[0m         \u001b[0mself\u001b[0m\u001b[1;33m.\u001b[0m\u001b[0m_raise_ssl_error\u001b[0m\u001b[1;33m(\u001b[0m\u001b[0mself\u001b[0m\u001b[1;33m.\u001b[0m\u001b[0m_ssl\u001b[0m\u001b[1;33m,\u001b[0m \u001b[0mresult\u001b[0m\u001b[1;33m)\u001b[0m\u001b[1;33m\u001b[0m\u001b[1;33m\u001b[0m\u001b[0m\n\u001b[0;32m   1823\u001b[0m \u001b[1;33m\u001b[0m\u001b[0m\n",
      "\u001b[1;31mKeyboardInterrupt\u001b[0m: "
     ]
    }
   ],
   "source": [
    "scrape_content(get_links(scraper()))"
   ]
  },
  {
   "cell_type": "code",
   "execution_count": 17,
   "metadata": {},
   "outputs": [],
   "source": [
    "import pandas as pd"
   ]
  },
  {
   "cell_type": "code",
   "execution_count": 18,
   "metadata": {},
   "outputs": [
    {
     "data": {
      "text/html": [
       "<div>\n",
       "<style scoped>\n",
       "    .dataframe tbody tr th:only-of-type {\n",
       "        vertical-align: middle;\n",
       "    }\n",
       "\n",
       "    .dataframe tbody tr th {\n",
       "        vertical-align: top;\n",
       "    }\n",
       "\n",
       "    .dataframe thead th {\n",
       "        text-align: right;\n",
       "    }\n",
       "</style>\n",
       "<table border=\"1\" class=\"dataframe\">\n",
       "  <thead>\n",
       "    <tr style=\"text-align: right;\">\n",
       "      <th></th>\n",
       "      <th>date</th>\n",
       "      <th>url</th>\n",
       "      <th>title</th>\n",
       "      <th>text</th>\n",
       "    </tr>\n",
       "  </thead>\n",
       "  <tbody>\n",
       "    <tr>\n",
       "      <th>0</th>\n",
       "      <td>2019/01/02</td>\n",
       "      <td>https://www.congress.gov/congressional-record/...</td>\n",
       "      <td>Senate</td>\n",
       "      <td>The Senate met at 4 p.m. and was called to ord...</td>\n",
       "    </tr>\n",
       "    <tr>\n",
       "      <th>1</th>\n",
       "      <td>2019/01/02</td>\n",
       "      <td>https://www.congress.gov/congressional-record/...</td>\n",
       "      <td>PRAYER</td>\n",
       "      <td>The Chaplain, Dr. Barry C. Black, offered the ...</td>\n",
       "    </tr>\n",
       "    <tr>\n",
       "      <th>2</th>\n",
       "      <td>2019/01/02</td>\n",
       "      <td>https://www.congress.gov/congressional-record/...</td>\n",
       "      <td>PLEDGE OF ALLEGIANCE</td>\n",
       "      <td>The Presiding Officer led the Pledge of Allegi...</td>\n",
       "    </tr>\n",
       "    <tr>\n",
       "      <th>3</th>\n",
       "      <td>2019/01/02</td>\n",
       "      <td>https://www.congress.gov/congressional-record/...</td>\n",
       "      <td>APPOINTMENT OF ACTING PRESIDENT PRO TEMPORE</td>\n",
       "      <td>The PRESIDING OFFICER. The clerk will please r...</td>\n",
       "    </tr>\n",
       "    <tr>\n",
       "      <th>4</th>\n",
       "      <td>2019/01/02</td>\n",
       "      <td>https://www.congress.gov/congressional-record/...</td>\n",
       "      <td>RESERVATION OF LEADER TIME</td>\n",
       "      <td>The ACTING PRESIDENT pro tempore. Under the pr...</td>\n",
       "    </tr>\n",
       "    <tr>\n",
       "      <th>...</th>\n",
       "      <td>...</td>\n",
       "      <td>...</td>\n",
       "      <td>...</td>\n",
       "      <td>...</td>\n",
       "    </tr>\n",
       "    <tr>\n",
       "      <th>577</th>\n",
       "      <td>2019/01/30</td>\n",
       "      <td>https://www.congress.gov/congressional-record/...</td>\n",
       "      <td>AMENDMENTS SUBMITTED AND PROPOSED</td>\n",
       "      <td>SA 81. Mr. BLUMENTHAL submitted an amendment i...</td>\n",
       "    </tr>\n",
       "    <tr>\n",
       "      <th>578</th>\n",
       "      <td>2019/01/30</td>\n",
       "      <td>https://www.congress.gov/congressional-record/...</td>\n",
       "      <td>TEXT OF AMENDMENTS</td>\n",
       "      <td>SA 81. Mr. BLUMENTHAL submitted an amendment i...</td>\n",
       "    </tr>\n",
       "    <tr>\n",
       "      <th>579</th>\n",
       "      <td>2019/01/30</td>\n",
       "      <td>https://www.congress.gov/congressional-record/...</td>\n",
       "      <td>ORDERS FOR THURSDAY, JANUARY 31, 2019</td>\n",
       "      <td>Mr. McCONNELL. Mr. President, I ask unanimous ...</td>\n",
       "    </tr>\n",
       "    <tr>\n",
       "      <th>580</th>\n",
       "      <td>2019/01/30</td>\n",
       "      <td>https://www.congress.gov/congressional-record/...</td>\n",
       "      <td>ADJOURNMENT UNTIL 10 A.M. TOMORROW</td>\n",
       "      <td>Mr. McCONNELL. Mr. President, if there is no f...</td>\n",
       "    </tr>\n",
       "    <tr>\n",
       "      <th>581</th>\n",
       "      <td>2019/01/30</td>\n",
       "      <td>https://www.congress.gov/congressional-record/...</td>\n",
       "      <td>NOMINATIONS</td>\n",
       "      <td>Executive nominations received by the Senate: ...</td>\n",
       "    </tr>\n",
       "  </tbody>\n",
       "</table>\n",
       "<p>582 rows × 4 columns</p>\n",
       "</div>"
      ],
      "text/plain": [
       "           date                                                url  \\\n",
       "0    2019/01/02  https://www.congress.gov/congressional-record/...   \n",
       "1    2019/01/02  https://www.congress.gov/congressional-record/...   \n",
       "2    2019/01/02  https://www.congress.gov/congressional-record/...   \n",
       "3    2019/01/02  https://www.congress.gov/congressional-record/...   \n",
       "4    2019/01/02  https://www.congress.gov/congressional-record/...   \n",
       "..          ...                                                ...   \n",
       "577  2019/01/30  https://www.congress.gov/congressional-record/...   \n",
       "578  2019/01/30  https://www.congress.gov/congressional-record/...   \n",
       "579  2019/01/30  https://www.congress.gov/congressional-record/...   \n",
       "580  2019/01/30  https://www.congress.gov/congressional-record/...   \n",
       "581  2019/01/30  https://www.congress.gov/congressional-record/...   \n",
       "\n",
       "                                           title  \\\n",
       "0                                         Senate   \n",
       "1                                         PRAYER   \n",
       "2                           PLEDGE OF ALLEGIANCE   \n",
       "3    APPOINTMENT OF ACTING PRESIDENT PRO TEMPORE   \n",
       "4                     RESERVATION OF LEADER TIME   \n",
       "..                                           ...   \n",
       "577            AMENDMENTS SUBMITTED AND PROPOSED   \n",
       "578                           TEXT OF AMENDMENTS   \n",
       "579        ORDERS FOR THURSDAY, JANUARY 31, 2019   \n",
       "580           ADJOURNMENT UNTIL 10 A.M. TOMORROW   \n",
       "581                                  NOMINATIONS   \n",
       "\n",
       "                                                  text  \n",
       "0    The Senate met at 4 p.m. and was called to ord...  \n",
       "1    The Chaplain, Dr. Barry C. Black, offered the ...  \n",
       "2    The Presiding Officer led the Pledge of Allegi...  \n",
       "3    The PRESIDING OFFICER. The clerk will please r...  \n",
       "4    The ACTING PRESIDENT pro tempore. Under the pr...  \n",
       "..                                                 ...  \n",
       "577  SA 81. Mr. BLUMENTHAL submitted an amendment i...  \n",
       "578  SA 81. Mr. BLUMENTHAL submitted an amendment i...  \n",
       "579  Mr. McCONNELL. Mr. President, I ask unanimous ...  \n",
       "580  Mr. McCONNELL. Mr. President, if there is no f...  \n",
       "581  Executive nominations received by the Senate: ...  \n",
       "\n",
       "[582 rows x 4 columns]"
      ]
     },
     "execution_count": 18,
     "metadata": {},
     "output_type": "execute_result"
    }
   ],
   "source": [
    "speech = pd.read_csv(\"speeches.csv\")\n",
    "speech"
   ]
  },
  {
   "cell_type": "code",
   "execution_count": 28,
   "metadata": {},
   "outputs": [
    {
     "data": {
      "text/plain": [
       "(49, 4)"
      ]
     },
     "execution_count": 28,
     "metadata": {},
     "output_type": "execute_result"
    }
   ],
   "source": [
    "speech[speech.date==\"2019/01/02\"].shape"
   ]
  },
  {
   "cell_type": "code",
   "execution_count": 22,
   "metadata": {},
   "outputs": [
    {
     "data": {
      "text/plain": [
       "False"
      ]
     },
     "execution_count": 22,
     "metadata": {},
     "output_type": "execute_result"
    }
   ],
   "source": [
    "\"https://www.congress.gov/congressional-record/2019/1/2/senate-section/article/S8052-3\" in speech.url"
   ]
  },
  {
   "cell_type": "code",
   "execution_count": 20,
   "metadata": {},
   "outputs": [
    {
     "data": {
      "text/plain": [
       "'https://www.congress.gov/congressional-record/2019/01/02/senate-section/article/S8052-2'"
      ]
     },
     "execution_count": 20,
     "metadata": {},
     "output_type": "execute_result"
    }
   ],
   "source": [
    "speech.url.loc[9]"
   ]
  },
  {
   "cell_type": "code",
   "execution_count": 14,
   "metadata": {},
   "outputs": [],
   "source": [
    "df = pd.read_csv(Path.joinpath(path, \"coca_news.txt\"), delimiter=\"\\t\", header=None, \n",
    "                 names =[\"textID\",\"words\", \"Year\",\"Newspaper\", \"Date (yyyyddmm)\", \"Title\", \"Section\"])"
   ]
  },
  {
   "cell_type": "code",
   "execution_count": 16,
   "metadata": {},
   "outputs": [],
   "source": [
    "df.to_csv(\"add_to_news.csv\")"
   ]
  },
  {
   "cell_type": "code",
   "execution_count": null,
   "metadata": {},
   "outputs": [],
   "source": []
  },
  {
   "cell_type": "code",
   "execution_count": 10,
   "metadata": {},
   "outputs": [],
   "source": [
    "path = Path(r\"C:\\Users\\danny\\Downloads\")"
   ]
  },
  {
   "cell_type": "code",
   "execution_count": 7,
   "metadata": {},
   "outputs": [],
   "source": [
    "import pandas as pd\n",
    "from pathlib import Path"
   ]
  },
  {
   "cell_type": "code",
   "execution_count": 3,
   "metadata": {},
   "outputs": [
    {
     "ename": "LibrdataError",
     "evalue": "Unable to read from file",
     "output_type": "error",
     "traceback": [
      "\u001b[1;31m---------------------------------------------------------------------------\u001b[0m",
      "\u001b[1;31mLibrdataError\u001b[0m                             Traceback (most recent call last)",
      "\u001b[1;32m<ipython-input-3-f5ca858810e4>\u001b[0m in \u001b[0;36m<module>\u001b[1;34m\u001b[0m\n\u001b[1;32m----> 1\u001b[1;33m \u001b[0mresults\u001b[0m \u001b[1;33m=\u001b[0m \u001b[0mpyreadr\u001b[0m\u001b[1;33m.\u001b[0m\u001b[0mread_r\u001b[0m\u001b[1;33m(\u001b[0m\u001b[1;34mr\"C:\\Users\\danny\\OneDrive\\Desktop\\Senate_104-113.RData\"\u001b[0m\u001b[1;33m)\u001b[0m\u001b[1;33m\u001b[0m\u001b[1;33m\u001b[0m\u001b[0m\n\u001b[0m",
      "\u001b[1;32m~\\Anaconda3\\lib\\site-packages\\pyreadr\\pyreadr.py\u001b[0m in \u001b[0;36mread_r\u001b[1;34m(path, use_objects, timezone)\u001b[0m\n\u001b[0;32m     38\u001b[0m     \u001b[1;32mif\u001b[0m \u001b[0mtimezone\u001b[0m\u001b[1;33m:\u001b[0m\u001b[1;33m\u001b[0m\u001b[1;33m\u001b[0m\u001b[0m\n\u001b[0;32m     39\u001b[0m         \u001b[0mparser\u001b[0m\u001b[1;33m.\u001b[0m\u001b[0mset_timezone\u001b[0m\u001b[1;33m(\u001b[0m\u001b[0mtimezone\u001b[0m\u001b[1;33m)\u001b[0m\u001b[1;33m\u001b[0m\u001b[1;33m\u001b[0m\u001b[0m\n\u001b[1;32m---> 40\u001b[1;33m     \u001b[0mparser\u001b[0m\u001b[1;33m.\u001b[0m\u001b[0mparse\u001b[0m\u001b[1;33m(\u001b[0m\u001b[0mpath\u001b[0m\u001b[1;33m)\u001b[0m\u001b[1;33m\u001b[0m\u001b[1;33m\u001b[0m\u001b[0m\n\u001b[0m\u001b[0;32m     41\u001b[0m \u001b[1;33m\u001b[0m\u001b[0m\n\u001b[0;32m     42\u001b[0m     \u001b[0mresult\u001b[0m \u001b[1;33m=\u001b[0m \u001b[0mOrderedDict\u001b[0m\u001b[1;33m(\u001b[0m\u001b[1;33m)\u001b[0m\u001b[1;33m\u001b[0m\u001b[1;33m\u001b[0m\u001b[0m\n",
      "\u001b[1;32m~\\Anaconda3\\lib\\site-packages\\pyreadr\\librdata.pyx\u001b[0m in \u001b[0;36mpyreadr.librdata.Parser.parse\u001b[1;34m()\u001b[0m\n",
      "\u001b[1;32m~\\Anaconda3\\lib\\site-packages\\pyreadr\\librdata.pyx\u001b[0m in \u001b[0;36mpyreadr.librdata.Parser.parse\u001b[1;34m()\u001b[0m\n",
      "\u001b[1;31mLibrdataError\u001b[0m: Unable to read from file"
     ]
    }
   ],
   "source": [
    "results = pyreadr.read_r(r\"C:\\Users\\danny\\OneDrive\\Desktop\\Senate_104-113.RData\")"
   ]
  },
  {
   "cell_type": "code",
   "execution_count": 1,
   "metadata": {},
   "outputs": [],
   "source": [
    "import pyreadr"
   ]
  },
  {
   "cell_type": "code",
   "execution_count": 129,
   "metadata": {},
   "outputs": [
    {
     "data": {
      "text/plain": [
       "'2014/01/06'"
      ]
     },
     "execution_count": 129,
     "metadata": {},
     "output_type": "execute_result"
    }
   ],
   "source": [
    "re.search(r\"\\d{4}\\/\\d{2}\\/\\d{2}\", st).group(0)"
   ]
  },
  {
   "cell_type": "code",
   "execution_count": 109,
   "metadata": {},
   "outputs": [],
   "source": [
    "st = 'https://www.congress.gov/congressional-record/2014/01/06/senate-section/article/S3-2'"
   ]
  },
  {
   "cell_type": "code",
   "execution_count": null,
   "metadata": {},
   "outputs": [],
   "source": [
    "def main(args):\n",
    "    \"\"\"Initializes class and runs through the functions\"\"\"\n",
    "    directory = args[0]\n",
    "\n",
    "    #create dates\n",
    "    start_date = args[1].split(\"-\")\n",
    "    start_date = date(int(start_date[2]), int(start_date[0]), int(start_date[1]))\n",
    "    if len(args) == 3:\n",
    "        end_date = args[2].split(\"-\")\n",
    "    else:\n",
    "        end_date = time.strftime(\"%d-%m-%Y\").split(\"-\")\n",
    "    end_date =date(int(end_date[2]), int(end_date[0]), int(end_date[1]))\n",
    "    scrape = scrapeCR(start_date, end_date, directory)\n",
    "    scrape.scrape()\n",
    "\n",
    "if __name__ == '__main__':\n",
    "    if len(sys.argv) < 2:\n",
    "        print(\"Too few arguments\")\n",
    "        sys.exit()\n",
    "    else:\n",
    "        args = sys.argv[1:]\n",
    "        main(args)\n",
    "\n",
    "\n"
   ]
  },
  {
   "cell_type": "code",
   "execution_count": 6,
   "metadata": {},
   "outputs": [
    {
     "data": {
      "text/plain": [
       "<__main__.scrapeCR at 0x209dd36f518>"
      ]
     },
     "execution_count": 6,
     "metadata": {},
     "output_type": "execute_result"
    }
   ],
   "source": [
    "scrapeCR(\"01-01-2021\", \"03-01-2021\", os.getcwd())"
   ]
  }
 ],
 "metadata": {
  "kernelspec": {
   "display_name": "Python 3",
   "language": "python",
   "name": "python3"
  },
  "language_info": {
   "codemirror_mode": {
    "name": "ipython",
    "version": 3
   },
   "file_extension": ".py",
   "mimetype": "text/x-python",
   "name": "python",
   "nbconvert_exporter": "python",
   "pygments_lexer": "ipython3",
   "version": "3.7.3"
  },
  "toc": {
   "base_numbering": 1,
   "nav_menu": {},
   "number_sections": true,
   "sideBar": true,
   "skip_h1_title": false,
   "title_cell": "Table of Contents",
   "title_sidebar": "Contents",
   "toc_cell": false,
   "toc_position": {},
   "toc_section_display": true,
   "toc_window_display": false
  },
  "varInspector": {
   "cols": {
    "lenName": 16,
    "lenType": 16,
    "lenVar": 40
   },
   "kernels_config": {
    "python": {
     "delete_cmd_postfix": "",
     "delete_cmd_prefix": "del ",
     "library": "var_list.py",
     "varRefreshCmd": "print(var_dic_list())"
    },
    "r": {
     "delete_cmd_postfix": ") ",
     "delete_cmd_prefix": "rm(",
     "library": "var_list.r",
     "varRefreshCmd": "cat(var_dic_list()) "
    }
   },
   "types_to_exclude": [
    "module",
    "function",
    "builtin_function_or_method",
    "instance",
    "_Feature"
   ],
   "window_display": false
  }
 },
 "nbformat": 4,
 "nbformat_minor": 2
}
